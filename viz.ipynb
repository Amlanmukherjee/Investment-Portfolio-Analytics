{
 "cells": [
  {
   "cell_type": "code",
   "execution_count": 41,
   "metadata": {},
   "outputs": [],
   "source": [
    "import pandas as pd\n",
    "import plotly.express as px\n",
    "import plotly.graph_objects as go"
   ]
  },
  {
   "cell_type": "code",
   "execution_count": 42,
   "metadata": {},
   "outputs": [],
   "source": [
    "# Load the CSV file into a pandas DataFrame\n",
    "df = pd.read_csv('data.csv')"
   ]
  },
  {
   "cell_type": "code",
   "execution_count": null,
   "metadata": {},
   "outputs": [],
   "source": [
    "print(df.head())"
   ]
  },
  {
   "cell_type": "code",
   "execution_count": 44,
   "metadata": {},
   "outputs": [],
   "source": [
    "# Drop the 'Remark' column as it is empty\n",
    "df = df.drop(columns=['Remark'])"
   ]
  },
  {
   "cell_type": "code",
   "execution_count": 45,
   "metadata": {},
   "outputs": [],
   "source": [
    "# Convert 'Buy date' and 'Closing date' to datetime\n",
    "df['Buy date'] = pd.to_datetime(df['Buy date'], format='%d-%m-%Y')\n",
    "df['Closing date'] = pd.to_datetime(df['Closing date'], format='%d-%m-%Y')"
   ]
  },
  {
   "cell_type": "code",
   "execution_count": null,
   "metadata": {},
   "outputs": [],
   "source": [
    "# Sort data by 'Buy date' to ensure cumulative calculations are in order\n",
    "df = df.sort_values(by='Buy date')\n",
    "\n",
    "# Group by 'Buy date' and sum 'Buy value' and 'Unrealised P&L' for each date\n",
    "investment_over_time = df.groupby('Buy date')[['Buy value', 'Unrealised P&L']].sum().reset_index()\n",
    "\n",
    "# Calculate cumulative amount invested and cumulative P&L over time\n",
    "investment_over_time['Cumulative Invested'] = investment_over_time['Buy value'].cumsum()\n",
    "investment_over_time['Cumulative P&L'] = investment_over_time['Unrealised P&L'].cumsum()\n",
    "\n",
    "# Create the line chart to show amount invested vs total P&L over time\n",
    "fig = px.line(investment_over_time, x='Buy date', \n",
    "              y=['Cumulative Invested', 'Cumulative P&L'],\n",
    "              labels={'value': 'Amount', 'variable': 'Type', 'Buy date': 'Date'},\n",
    "              title='Amount Invested vs Total P&L Over Time')\n",
    "\n",
    "# Show the plot\n",
    "fig.show()"
   ]
  },
  {
   "cell_type": "code",
   "execution_count": null,
   "metadata": {},
   "outputs": [],
   "source": [
    "# Aggregated Stock Allocation by Value\n",
    "stock_value_allocation = df.groupby('Stock name')[['Buy value', 'Closing value']].sum().reset_index()\n",
    "\n",
    "fig2 = px.pie(stock_value_allocation, names='Stock name', values='Closing value',\n",
    "              title='Stock Allocation by Value')\n",
    "\n",
    "# Use `hole` to create a donut-like pie chart\n",
    "fig2.update_traces(hole=.4, hoverinfo=\"label+percent+name\")\n",
    "\n",
    "fig2.show()"
   ]
  },
  {
   "cell_type": "code",
   "execution_count": null,
   "metadata": {},
   "outputs": [],
   "source": [
    "# Unrealized P&L (Aggregated by Stock)\n",
    "stock_pnl = df.groupby('Stock name')['Unrealised P&L'].sum().reset_index()\n",
    "# Add a column for color based on Unrealised P&L\n",
    "stock_pnl['Color'] = stock_pnl['Unrealised P&L'].apply(lambda x: 'Profit' if x >= 0 else 'Loss')\n",
    "stock_pnl_sorted = stock_pnl.sort_values(by='Unrealised P&L', ascending=False)\n",
    "\n",
    "fig3 = px.bar(stock_pnl_sorted, x='Stock name', y='Unrealised P&L',\n",
    "              color='Color',\n",
    "              color_discrete_map={'Profit': 'green', 'Loss': 'red'},\n",
    "              title='Unrealized P&L')\n",
    "fig3.show()"
   ]
  },
  {
   "cell_type": "code",
   "execution_count": null,
   "metadata": {},
   "outputs": [],
   "source": [
    "# Total Quantity Held Per Stock\n",
    "total_quantity = df.groupby('Stock name')['Quantity'].sum().reset_index()\n",
    "total_quantity = total_quantity.sort_values(by='Quantity', ascending=False)\n",
    "\n",
    "fig4 = px.bar(total_quantity, x='Stock name', y='Quantity',\n",
    "              title='Total Quantity Held Per Stock')\n",
    "fig4.show()"
   ]
  },
  {
   "cell_type": "code",
   "execution_count": null,
   "metadata": {},
   "outputs": [],
   "source": [
    "# Group by 'Stock name' and sum 'Buy value' and 'Unrealised P&L' for each stock\n",
    "value_comparison = df.groupby('Stock name')[['Buy value', 'Unrealised P&L']].sum().reset_index()\n",
    "\n",
    "# Separate positive and negative Unrealised P&L values for conditional coloring\n",
    "positive_pnl = value_comparison['Unrealised P&L'].apply(lambda x: max(x, 0))\n",
    "negative_pnl = value_comparison['Unrealised P&L'].apply(lambda x: min(x, 0))\n",
    "\n",
    "# Create the stacked bar chart\n",
    "fig5 = go.Figure(data=[\n",
    "    go.Bar(name='Buy value', x=value_comparison['Stock name'], y=value_comparison['Buy value']),\n",
    "    go.Bar(name='Unrealised P&L (negative)', x=value_comparison['Stock name'], y=negative_pnl),\n",
    "    go.Bar(name='Unrealised P&L (positive)', x=value_comparison['Stock name'], y=positive_pnl)\n",
    "])\n",
    "\n",
    "# Update layout to make the bars stacked\n",
    "fig5.update_layout(barmode='stack', title='Aggregated Buy vs Unrealised P&L Comparison (Per Stock)')\n",
    "\n",
    "# Show the plot\n",
    "fig5.show()"
   ]
  },
  {
   "cell_type": "code",
   "execution_count": null,
   "metadata": {},
   "outputs": [],
   "source": [
    "# Performance of Stocks by Time Held (Across Trades)\n",
    "df['Holding Period (days)'] = (df['Closing date'] - df['Buy date']).dt.days\n",
    "\n",
    "fig6 = px.scatter(df, x='Holding Period (days)', y='Unrealised P&L', color='Stock name',\n",
    "                  title='Performance of Stocks by Time Held')\n",
    "fig6.show()"
   ]
  },
  {
   "cell_type": "code",
   "execution_count": null,
   "metadata": {},
   "outputs": [],
   "source": [
    "# P&L Percentage by Stock (Aggregated)\n",
    "pnl_percentage = df.groupby('Stock name')[['Unrealised P&L', 'Buy value']].sum().reset_index()\n",
    "pnl_percentage['P&L Percentage'] = (pnl_percentage['Unrealised P&L'] / pnl_percentage['Buy value']) * 100\n",
    "\n",
    "fig7 = px.bar(pnl_percentage, x='Stock name', y='P&L Percentage',\n",
    "              title='P&L Percentage by Stock')\n",
    "fig7.show()"
   ]
  }
 ],
 "metadata": {
  "kernelspec": {
   "display_name": "Python 3",
   "language": "python",
   "name": "python3"
  },
  "language_info": {
   "codemirror_mode": {
    "name": "ipython",
    "version": 3
   },
   "file_extension": ".py",
   "mimetype": "text/x-python",
   "name": "python",
   "nbconvert_exporter": "python",
   "pygments_lexer": "ipython3",
   "version": "3.11.9"
  }
 },
 "nbformat": 4,
 "nbformat_minor": 2
}
